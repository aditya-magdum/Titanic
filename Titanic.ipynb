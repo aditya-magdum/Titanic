{
 "cells": [
  {
   "cell_type": "code",
   "execution_count": 44,
   "id": "e34d2ca8",
   "metadata": {},
   "outputs": [],
   "source": [
    "import pandas as pd"
   ]
  },
  {
   "cell_type": "code",
   "execution_count": 45,
   "id": "fde9b5f3",
   "metadata": {},
   "outputs": [],
   "source": [
    "df_train = pd.read_csv(\"train titanic.csv\")\n",
    "df_test = pd.read_csv(\"test titanic.csv\")"
   ]
  },
  {
   "cell_type": "code",
   "execution_count": 46,
   "id": "d680ae2b",
   "metadata": {},
   "outputs": [
    {
     "name": "stdout",
     "output_type": "stream",
     "text": [
      "<class 'pandas.core.frame.DataFrame'>\n",
      "RangeIndex: 891 entries, 0 to 890\n",
      "Data columns (total 12 columns):\n",
      " #   Column       Non-Null Count  Dtype  \n",
      "---  ------       --------------  -----  \n",
      " 0   PassengerId  891 non-null    int64  \n",
      " 1   Survived     891 non-null    int64  \n",
      " 2   Pclass       891 non-null    int64  \n",
      " 3   Name         891 non-null    object \n",
      " 4   Sex          891 non-null    object \n",
      " 5   Age          714 non-null    float64\n",
      " 6   SibSp        891 non-null    int64  \n",
      " 7   Parch        891 non-null    int64  \n",
      " 8   Ticket       891 non-null    object \n",
      " 9   Fare         891 non-null    float64\n",
      " 10  Cabin        204 non-null    object \n",
      " 11  Embarked     889 non-null    object \n",
      "dtypes: float64(2), int64(5), object(5)\n",
      "memory usage: 83.7+ KB\n"
     ]
    }
   ],
   "source": [
    "df_train.info()"
   ]
  },
  {
   "cell_type": "markdown",
   "id": "0dcbe4b2",
   "metadata": {},
   "source": [
    "**Extracting titles from name and selecting first four only**"
   ]
  },
  {
   "cell_type": "code",
   "execution_count": 47,
   "id": "a6617b61",
   "metadata": {},
   "outputs": [],
   "source": [
    "titles = df_train['Name'].apply(lambda X:X.split(' ')[1]).value_counts()[:4].index"
   ]
  },
  {
   "cell_type": "markdown",
   "id": "ec75e13e",
   "metadata": {},
   "source": [
    "**Creating New Column named Title**"
   ]
  },
  {
   "cell_type": "code",
   "execution_count": 48,
   "id": "26085e8b",
   "metadata": {},
   "outputs": [],
   "source": [
    "df_train['Title'] = df_train['Name'].apply(lambda X:X.split(' ')[1])\n",
    "df_test['Title'] = df_test['Name'].apply(lambda X:X.split(' ')[1])\n",
    "\n",
    "# If Title is not in titles then assign it to the other\n",
    "\n",
    "df_train['Title'] = df_train['Title'].apply(lambda X: X if X in titles else 'other')\n",
    "df_test['Title'] = df_test['Title'].apply(lambda X: X if X in titles else 'other')"
   ]
  },
  {
   "cell_type": "markdown",
   "id": "d494bd49",
   "metadata": {},
   "source": [
    "**EDA Dividing Data in Numeric and object Data**"
   ]
  },
  {
   "cell_type": "code",
   "execution_count": 49,
   "id": "a1718664",
   "metadata": {},
   "outputs": [
    {
     "data": {
      "text/plain": [
       "(['PassengerId', 'Survived', 'Pclass', 'Age', 'SibSp', 'Parch', 'Fare'],\n",
       " ['Name', 'Sex', 'Ticket', 'Cabin', 'Embarked', 'Title'])"
      ]
     },
     "execution_count": 49,
     "metadata": {},
     "output_type": "execute_result"
    }
   ],
   "source": [
    "columns_object = list(df_train.select_dtypes(include='object').columns)\n",
    "columns_numeric = list(df_train.select_dtypes(exclude='object').columns)\n",
    "columns_numeric, columns_object"
   ]
  },
  {
   "cell_type": "code",
   "execution_count": 50,
   "id": "b8cef9af",
   "metadata": {},
   "outputs": [],
   "source": [
    "# Remove Columns which we are not going to handle  and use remaining\n",
    "\n",
    "columns_numeric = ['Pclass', 'Age', 'SibSp', 'Parch', 'Fare']\n",
    "columns_object = ['Sex', 'Embarked', 'Title']"
   ]
  },
  {
   "cell_type": "markdown",
   "id": "53b396bf",
   "metadata": {},
   "source": [
    "**Handling Missing Data**"
   ]
  },
  {
   "cell_type": "code",
   "execution_count": 51,
   "id": "7deedeef",
   "metadata": {},
   "outputs": [],
   "source": [
    "from sklearn.impute import SimpleImputer"
   ]
  },
  {
   "cell_type": "code",
   "execution_count": 52,
   "id": "f077cb70",
   "metadata": {},
   "outputs": [],
   "source": [
    "imputer_numeric = SimpleImputer(strategy='median')\n",
    "imputer_object = SimpleImputer(strategy='most_frequent')\n",
    "imputer_numeric.fit(df_train[columns_numeric])\n",
    "imputer_object.fit(df_train[columns_object])\n",
    "\n",
    "df_train[columns_numeric] = imputer_numeric.transform(df_train[columns_numeric])\n",
    "df_train[columns_object] = imputer_object.transform(df_train[columns_object])"
   ]
  },
  {
   "cell_type": "code",
   "execution_count": 54,
   "id": "60545b21",
   "metadata": {},
   "outputs": [],
   "source": [
    "df_test[columns_numeric] = imputer_numeric.transform(df_test[columns_numeric])\n",
    "df_test[columns_object] = imputer_object.transform(df_test[columns_object])"
   ]
  },
  {
   "cell_type": "code",
   "execution_count": 55,
   "id": "5cf567a3",
   "metadata": {},
   "outputs": [
    {
     "data": {
      "text/html": [
       "<div>\n",
       "<style scoped>\n",
       "    .dataframe tbody tr th:only-of-type {\n",
       "        vertical-align: middle;\n",
       "    }\n",
       "\n",
       "    .dataframe tbody tr th {\n",
       "        vertical-align: top;\n",
       "    }\n",
       "\n",
       "    .dataframe thead th {\n",
       "        text-align: right;\n",
       "    }\n",
       "</style>\n",
       "<table border=\"1\" class=\"dataframe\">\n",
       "  <thead>\n",
       "    <tr style=\"text-align: right;\">\n",
       "      <th></th>\n",
       "      <th>PassengerId</th>\n",
       "      <th>Survived</th>\n",
       "      <th>Pclass</th>\n",
       "      <th>Name</th>\n",
       "      <th>Sex</th>\n",
       "      <th>Age</th>\n",
       "      <th>SibSp</th>\n",
       "      <th>Parch</th>\n",
       "      <th>Ticket</th>\n",
       "      <th>Fare</th>\n",
       "      <th>Cabin</th>\n",
       "      <th>Embarked</th>\n",
       "      <th>Title</th>\n",
       "    </tr>\n",
       "  </thead>\n",
       "  <tbody>\n",
       "    <tr>\n",
       "      <th>0</th>\n",
       "      <td>1</td>\n",
       "      <td>0</td>\n",
       "      <td>3.0</td>\n",
       "      <td>Braund, Mr. Owen Harris</td>\n",
       "      <td>male</td>\n",
       "      <td>22.0</td>\n",
       "      <td>1.0</td>\n",
       "      <td>0.0</td>\n",
       "      <td>A/5 21171</td>\n",
       "      <td>7.2500</td>\n",
       "      <td>NaN</td>\n",
       "      <td>S</td>\n",
       "      <td>Mr.</td>\n",
       "    </tr>\n",
       "    <tr>\n",
       "      <th>1</th>\n",
       "      <td>2</td>\n",
       "      <td>1</td>\n",
       "      <td>1.0</td>\n",
       "      <td>Cumings, Mrs. John Bradley (Florence Briggs Th...</td>\n",
       "      <td>female</td>\n",
       "      <td>38.0</td>\n",
       "      <td>1.0</td>\n",
       "      <td>0.0</td>\n",
       "      <td>PC 17599</td>\n",
       "      <td>71.2833</td>\n",
       "      <td>C85</td>\n",
       "      <td>C</td>\n",
       "      <td>Mrs.</td>\n",
       "    </tr>\n",
       "    <tr>\n",
       "      <th>2</th>\n",
       "      <td>3</td>\n",
       "      <td>1</td>\n",
       "      <td>3.0</td>\n",
       "      <td>Heikkinen, Miss. Laina</td>\n",
       "      <td>female</td>\n",
       "      <td>26.0</td>\n",
       "      <td>0.0</td>\n",
       "      <td>0.0</td>\n",
       "      <td>STON/O2. 3101282</td>\n",
       "      <td>7.9250</td>\n",
       "      <td>NaN</td>\n",
       "      <td>S</td>\n",
       "      <td>Miss.</td>\n",
       "    </tr>\n",
       "    <tr>\n",
       "      <th>3</th>\n",
       "      <td>4</td>\n",
       "      <td>1</td>\n",
       "      <td>1.0</td>\n",
       "      <td>Futrelle, Mrs. Jacques Heath (Lily May Peel)</td>\n",
       "      <td>female</td>\n",
       "      <td>35.0</td>\n",
       "      <td>1.0</td>\n",
       "      <td>0.0</td>\n",
       "      <td>113803</td>\n",
       "      <td>53.1000</td>\n",
       "      <td>C123</td>\n",
       "      <td>S</td>\n",
       "      <td>Mrs.</td>\n",
       "    </tr>\n",
       "    <tr>\n",
       "      <th>4</th>\n",
       "      <td>5</td>\n",
       "      <td>0</td>\n",
       "      <td>3.0</td>\n",
       "      <td>Allen, Mr. William Henry</td>\n",
       "      <td>male</td>\n",
       "      <td>35.0</td>\n",
       "      <td>0.0</td>\n",
       "      <td>0.0</td>\n",
       "      <td>373450</td>\n",
       "      <td>8.0500</td>\n",
       "      <td>NaN</td>\n",
       "      <td>S</td>\n",
       "      <td>Mr.</td>\n",
       "    </tr>\n",
       "    <tr>\n",
       "      <th>...</th>\n",
       "      <td>...</td>\n",
       "      <td>...</td>\n",
       "      <td>...</td>\n",
       "      <td>...</td>\n",
       "      <td>...</td>\n",
       "      <td>...</td>\n",
       "      <td>...</td>\n",
       "      <td>...</td>\n",
       "      <td>...</td>\n",
       "      <td>...</td>\n",
       "      <td>...</td>\n",
       "      <td>...</td>\n",
       "      <td>...</td>\n",
       "    </tr>\n",
       "    <tr>\n",
       "      <th>886</th>\n",
       "      <td>887</td>\n",
       "      <td>0</td>\n",
       "      <td>2.0</td>\n",
       "      <td>Montvila, Rev. Juozas</td>\n",
       "      <td>male</td>\n",
       "      <td>27.0</td>\n",
       "      <td>0.0</td>\n",
       "      <td>0.0</td>\n",
       "      <td>211536</td>\n",
       "      <td>13.0000</td>\n",
       "      <td>NaN</td>\n",
       "      <td>S</td>\n",
       "      <td>other</td>\n",
       "    </tr>\n",
       "    <tr>\n",
       "      <th>887</th>\n",
       "      <td>888</td>\n",
       "      <td>1</td>\n",
       "      <td>1.0</td>\n",
       "      <td>Graham, Miss. Margaret Edith</td>\n",
       "      <td>female</td>\n",
       "      <td>19.0</td>\n",
       "      <td>0.0</td>\n",
       "      <td>0.0</td>\n",
       "      <td>112053</td>\n",
       "      <td>30.0000</td>\n",
       "      <td>B42</td>\n",
       "      <td>S</td>\n",
       "      <td>Miss.</td>\n",
       "    </tr>\n",
       "    <tr>\n",
       "      <th>888</th>\n",
       "      <td>889</td>\n",
       "      <td>0</td>\n",
       "      <td>3.0</td>\n",
       "      <td>Johnston, Miss. Catherine Helen \"Carrie\"</td>\n",
       "      <td>female</td>\n",
       "      <td>28.0</td>\n",
       "      <td>1.0</td>\n",
       "      <td>2.0</td>\n",
       "      <td>W./C. 6607</td>\n",
       "      <td>23.4500</td>\n",
       "      <td>NaN</td>\n",
       "      <td>S</td>\n",
       "      <td>Miss.</td>\n",
       "    </tr>\n",
       "    <tr>\n",
       "      <th>889</th>\n",
       "      <td>890</td>\n",
       "      <td>1</td>\n",
       "      <td>1.0</td>\n",
       "      <td>Behr, Mr. Karl Howell</td>\n",
       "      <td>male</td>\n",
       "      <td>26.0</td>\n",
       "      <td>0.0</td>\n",
       "      <td>0.0</td>\n",
       "      <td>111369</td>\n",
       "      <td>30.0000</td>\n",
       "      <td>C148</td>\n",
       "      <td>C</td>\n",
       "      <td>Mr.</td>\n",
       "    </tr>\n",
       "    <tr>\n",
       "      <th>890</th>\n",
       "      <td>891</td>\n",
       "      <td>0</td>\n",
       "      <td>3.0</td>\n",
       "      <td>Dooley, Mr. Patrick</td>\n",
       "      <td>male</td>\n",
       "      <td>32.0</td>\n",
       "      <td>0.0</td>\n",
       "      <td>0.0</td>\n",
       "      <td>370376</td>\n",
       "      <td>7.7500</td>\n",
       "      <td>NaN</td>\n",
       "      <td>Q</td>\n",
       "      <td>Mr.</td>\n",
       "    </tr>\n",
       "  </tbody>\n",
       "</table>\n",
       "<p>891 rows × 13 columns</p>\n",
       "</div>"
      ],
      "text/plain": [
       "     PassengerId  Survived  Pclass  \\\n",
       "0              1         0     3.0   \n",
       "1              2         1     1.0   \n",
       "2              3         1     3.0   \n",
       "3              4         1     1.0   \n",
       "4              5         0     3.0   \n",
       "..           ...       ...     ...   \n",
       "886          887         0     2.0   \n",
       "887          888         1     1.0   \n",
       "888          889         0     3.0   \n",
       "889          890         1     1.0   \n",
       "890          891         0     3.0   \n",
       "\n",
       "                                                  Name     Sex   Age  SibSp  \\\n",
       "0                              Braund, Mr. Owen Harris    male  22.0    1.0   \n",
       "1    Cumings, Mrs. John Bradley (Florence Briggs Th...  female  38.0    1.0   \n",
       "2                               Heikkinen, Miss. Laina  female  26.0    0.0   \n",
       "3         Futrelle, Mrs. Jacques Heath (Lily May Peel)  female  35.0    1.0   \n",
       "4                             Allen, Mr. William Henry    male  35.0    0.0   \n",
       "..                                                 ...     ...   ...    ...   \n",
       "886                              Montvila, Rev. Juozas    male  27.0    0.0   \n",
       "887                       Graham, Miss. Margaret Edith  female  19.0    0.0   \n",
       "888           Johnston, Miss. Catherine Helen \"Carrie\"  female  28.0    1.0   \n",
       "889                              Behr, Mr. Karl Howell    male  26.0    0.0   \n",
       "890                                Dooley, Mr. Patrick    male  32.0    0.0   \n",
       "\n",
       "     Parch            Ticket     Fare Cabin Embarked  Title  \n",
       "0      0.0         A/5 21171   7.2500   NaN        S    Mr.  \n",
       "1      0.0          PC 17599  71.2833   C85        C   Mrs.  \n",
       "2      0.0  STON/O2. 3101282   7.9250   NaN        S  Miss.  \n",
       "3      0.0            113803  53.1000  C123        S   Mrs.  \n",
       "4      0.0            373450   8.0500   NaN        S    Mr.  \n",
       "..     ...               ...      ...   ...      ...    ...  \n",
       "886    0.0            211536  13.0000   NaN        S  other  \n",
       "887    0.0            112053  30.0000   B42        S  Miss.  \n",
       "888    2.0        W./C. 6607  23.4500   NaN        S  Miss.  \n",
       "889    0.0            111369  30.0000  C148        C    Mr.  \n",
       "890    0.0            370376   7.7500   NaN        Q    Mr.  \n",
       "\n",
       "[891 rows x 13 columns]"
      ]
     },
     "execution_count": 55,
     "metadata": {},
     "output_type": "execute_result"
    }
   ],
   "source": [
    "df_train"
   ]
  },
  {
   "cell_type": "code",
   "execution_count": 12,
   "id": "1db68e59",
   "metadata": {},
   "outputs": [
    {
     "data": {
      "text/plain": [
       "PassengerId      0\n",
       "Survived         0\n",
       "Pclass           0\n",
       "Name             0\n",
       "Sex              0\n",
       "Age              0\n",
       "SibSp            0\n",
       "Parch            0\n",
       "Ticket           0\n",
       "Fare             0\n",
       "Cabin          687\n",
       "Embarked         0\n",
       "Title            0\n",
       "dtype: int64"
      ]
     },
     "execution_count": 12,
     "metadata": {},
     "output_type": "execute_result"
    }
   ],
   "source": [
    "df_train.isna().sum()"
   ]
  },
  {
   "cell_type": "code",
   "execution_count": 13,
   "id": "a6ffe588",
   "metadata": {},
   "outputs": [
    {
     "data": {
      "text/plain": [
       "PassengerId      0\n",
       "Pclass           0\n",
       "Name             0\n",
       "Sex              0\n",
       "Age              0\n",
       "SibSp            0\n",
       "Parch            0\n",
       "Ticket           0\n",
       "Fare             0\n",
       "Cabin          327\n",
       "Embarked         0\n",
       "Title            0\n",
       "dtype: int64"
      ]
     },
     "execution_count": 13,
     "metadata": {},
     "output_type": "execute_result"
    }
   ],
   "source": [
    "df_test.isna().sum()"
   ]
  },
  {
   "cell_type": "markdown",
   "id": "98114e73",
   "metadata": {},
   "source": [
    "**Binning Age**"
   ]
  },
  {
   "cell_type": "code",
   "execution_count": 56,
   "id": "14c1a302",
   "metadata": {},
   "outputs": [],
   "source": [
    "def get_age_group(X):\n",
    "    if X>50:\n",
    "        return 'older'\n",
    "    if X>25:\n",
    "        return 'young'\n",
    "    return 'kid'"
   ]
  },
  {
   "cell_type": "code",
   "execution_count": 57,
   "id": "9ad1bfe5",
   "metadata": {},
   "outputs": [],
   "source": [
    "# BINNING \n",
    "df_train['Age_group'] = df_train['Age'].apply(get_age_group)\n",
    "df_test['Age_group'] = df_test['Age'].apply(get_age_group)"
   ]
  },
  {
   "cell_type": "code",
   "execution_count": 58,
   "id": "66ef8fc8",
   "metadata": {},
   "outputs": [],
   "source": [
    "columns_object.append('Age_group')\n"
   ]
  },
  {
   "cell_type": "code",
   "execution_count": 59,
   "id": "3af04bc4",
   "metadata": {},
   "outputs": [
    {
     "data": {
      "text/plain": [
       "['Sex', 'Embarked', 'Title', 'Age_group']"
      ]
     },
     "execution_count": 59,
     "metadata": {},
     "output_type": "execute_result"
    }
   ],
   "source": [
    "columns_object"
   ]
  },
  {
   "cell_type": "markdown",
   "id": "6bc03dce",
   "metadata": {},
   "source": [
    "**Feature Encoding**\n",
    "\n"
   ]
  },
  {
   "cell_type": "code",
   "execution_count": 60,
   "id": "e55873cb",
   "metadata": {},
   "outputs": [
    {
     "data": {
      "text/plain": [
       "OneHotEncoder(handle_unknown='ignore')"
      ]
     },
     "execution_count": 60,
     "metadata": {},
     "output_type": "execute_result"
    }
   ],
   "source": [
    "# Feature Encoding\n",
    "from sklearn.preprocessing import OneHotEncoder\n",
    "encoder = OneHotEncoder(handle_unknown='ignore') # handle unknown used to handle data if unkown data occur in testing \n",
    "encoder.fit(df_train[columns_object])"
   ]
  },
  {
   "cell_type": "code",
   "execution_count": 61,
   "id": "cff3974a",
   "metadata": {},
   "outputs": [],
   "source": [
    "# Working on Train data\n",
    "temp = encoder.transform(df_train[columns_object]).toarray()\n",
    "df_temp = pd.DataFrame(temp)  #  Creating DF_temp of OneHot Encoded data\n",
    "df_train = pd.concat([df_train,df_temp], axis=1) # Concating df_train,df_temp \n",
    "columns_numeric.extend(list(df_temp.columns)) # adding df_temp column in column numeric "
   ]
  },
  {
   "cell_type": "code",
   "execution_count": 20,
   "id": "9f1a6ebd",
   "metadata": {},
   "outputs": [
    {
     "data": {
      "text/html": [
       "<div>\n",
       "<style scoped>\n",
       "    .dataframe tbody tr th:only-of-type {\n",
       "        vertical-align: middle;\n",
       "    }\n",
       "\n",
       "    .dataframe tbody tr th {\n",
       "        vertical-align: top;\n",
       "    }\n",
       "\n",
       "    .dataframe thead th {\n",
       "        text-align: right;\n",
       "    }\n",
       "</style>\n",
       "<table border=\"1\" class=\"dataframe\">\n",
       "  <thead>\n",
       "    <tr style=\"text-align: right;\">\n",
       "      <th></th>\n",
       "      <th>PassengerId</th>\n",
       "      <th>Survived</th>\n",
       "      <th>Pclass</th>\n",
       "      <th>Name</th>\n",
       "      <th>Sex</th>\n",
       "      <th>Age</th>\n",
       "      <th>SibSp</th>\n",
       "      <th>Parch</th>\n",
       "      <th>Ticket</th>\n",
       "      <th>Fare</th>\n",
       "      <th>...</th>\n",
       "      <th>3</th>\n",
       "      <th>4</th>\n",
       "      <th>5</th>\n",
       "      <th>6</th>\n",
       "      <th>7</th>\n",
       "      <th>8</th>\n",
       "      <th>9</th>\n",
       "      <th>10</th>\n",
       "      <th>11</th>\n",
       "      <th>12</th>\n",
       "    </tr>\n",
       "  </thead>\n",
       "  <tbody>\n",
       "    <tr>\n",
       "      <th>0</th>\n",
       "      <td>1</td>\n",
       "      <td>0</td>\n",
       "      <td>3.0</td>\n",
       "      <td>Braund, Mr. Owen Harris</td>\n",
       "      <td>male</td>\n",
       "      <td>22.0</td>\n",
       "      <td>1.0</td>\n",
       "      <td>0.0</td>\n",
       "      <td>A/5 21171</td>\n",
       "      <td>7.2500</td>\n",
       "      <td>...</td>\n",
       "      <td>0.0</td>\n",
       "      <td>1.0</td>\n",
       "      <td>0.0</td>\n",
       "      <td>0.0</td>\n",
       "      <td>1.0</td>\n",
       "      <td>0.0</td>\n",
       "      <td>0.0</td>\n",
       "      <td>1.0</td>\n",
       "      <td>0.0</td>\n",
       "      <td>0.0</td>\n",
       "    </tr>\n",
       "    <tr>\n",
       "      <th>1</th>\n",
       "      <td>2</td>\n",
       "      <td>1</td>\n",
       "      <td>1.0</td>\n",
       "      <td>Cumings, Mrs. John Bradley (Florence Briggs Th...</td>\n",
       "      <td>female</td>\n",
       "      <td>38.0</td>\n",
       "      <td>1.0</td>\n",
       "      <td>0.0</td>\n",
       "      <td>PC 17599</td>\n",
       "      <td>71.2833</td>\n",
       "      <td>...</td>\n",
       "      <td>0.0</td>\n",
       "      <td>0.0</td>\n",
       "      <td>0.0</td>\n",
       "      <td>0.0</td>\n",
       "      <td>0.0</td>\n",
       "      <td>1.0</td>\n",
       "      <td>0.0</td>\n",
       "      <td>0.0</td>\n",
       "      <td>0.0</td>\n",
       "      <td>1.0</td>\n",
       "    </tr>\n",
       "    <tr>\n",
       "      <th>2</th>\n",
       "      <td>3</td>\n",
       "      <td>1</td>\n",
       "      <td>3.0</td>\n",
       "      <td>Heikkinen, Miss. Laina</td>\n",
       "      <td>female</td>\n",
       "      <td>26.0</td>\n",
       "      <td>0.0</td>\n",
       "      <td>0.0</td>\n",
       "      <td>STON/O2. 3101282</td>\n",
       "      <td>7.9250</td>\n",
       "      <td>...</td>\n",
       "      <td>0.0</td>\n",
       "      <td>1.0</td>\n",
       "      <td>0.0</td>\n",
       "      <td>1.0</td>\n",
       "      <td>0.0</td>\n",
       "      <td>0.0</td>\n",
       "      <td>0.0</td>\n",
       "      <td>0.0</td>\n",
       "      <td>0.0</td>\n",
       "      <td>1.0</td>\n",
       "    </tr>\n",
       "    <tr>\n",
       "      <th>3</th>\n",
       "      <td>4</td>\n",
       "      <td>1</td>\n",
       "      <td>1.0</td>\n",
       "      <td>Futrelle, Mrs. Jacques Heath (Lily May Peel)</td>\n",
       "      <td>female</td>\n",
       "      <td>35.0</td>\n",
       "      <td>1.0</td>\n",
       "      <td>0.0</td>\n",
       "      <td>113803</td>\n",
       "      <td>53.1000</td>\n",
       "      <td>...</td>\n",
       "      <td>0.0</td>\n",
       "      <td>1.0</td>\n",
       "      <td>0.0</td>\n",
       "      <td>0.0</td>\n",
       "      <td>0.0</td>\n",
       "      <td>1.0</td>\n",
       "      <td>0.0</td>\n",
       "      <td>0.0</td>\n",
       "      <td>0.0</td>\n",
       "      <td>1.0</td>\n",
       "    </tr>\n",
       "    <tr>\n",
       "      <th>4</th>\n",
       "      <td>5</td>\n",
       "      <td>0</td>\n",
       "      <td>3.0</td>\n",
       "      <td>Allen, Mr. William Henry</td>\n",
       "      <td>male</td>\n",
       "      <td>35.0</td>\n",
       "      <td>0.0</td>\n",
       "      <td>0.0</td>\n",
       "      <td>373450</td>\n",
       "      <td>8.0500</td>\n",
       "      <td>...</td>\n",
       "      <td>0.0</td>\n",
       "      <td>1.0</td>\n",
       "      <td>0.0</td>\n",
       "      <td>0.0</td>\n",
       "      <td>1.0</td>\n",
       "      <td>0.0</td>\n",
       "      <td>0.0</td>\n",
       "      <td>0.0</td>\n",
       "      <td>0.0</td>\n",
       "      <td>1.0</td>\n",
       "    </tr>\n",
       "    <tr>\n",
       "      <th>...</th>\n",
       "      <td>...</td>\n",
       "      <td>...</td>\n",
       "      <td>...</td>\n",
       "      <td>...</td>\n",
       "      <td>...</td>\n",
       "      <td>...</td>\n",
       "      <td>...</td>\n",
       "      <td>...</td>\n",
       "      <td>...</td>\n",
       "      <td>...</td>\n",
       "      <td>...</td>\n",
       "      <td>...</td>\n",
       "      <td>...</td>\n",
       "      <td>...</td>\n",
       "      <td>...</td>\n",
       "      <td>...</td>\n",
       "      <td>...</td>\n",
       "      <td>...</td>\n",
       "      <td>...</td>\n",
       "      <td>...</td>\n",
       "      <td>...</td>\n",
       "    </tr>\n",
       "    <tr>\n",
       "      <th>886</th>\n",
       "      <td>887</td>\n",
       "      <td>0</td>\n",
       "      <td>2.0</td>\n",
       "      <td>Montvila, Rev. Juozas</td>\n",
       "      <td>male</td>\n",
       "      <td>27.0</td>\n",
       "      <td>0.0</td>\n",
       "      <td>0.0</td>\n",
       "      <td>211536</td>\n",
       "      <td>13.0000</td>\n",
       "      <td>...</td>\n",
       "      <td>0.0</td>\n",
       "      <td>1.0</td>\n",
       "      <td>0.0</td>\n",
       "      <td>0.0</td>\n",
       "      <td>0.0</td>\n",
       "      <td>0.0</td>\n",
       "      <td>1.0</td>\n",
       "      <td>0.0</td>\n",
       "      <td>0.0</td>\n",
       "      <td>1.0</td>\n",
       "    </tr>\n",
       "    <tr>\n",
       "      <th>887</th>\n",
       "      <td>888</td>\n",
       "      <td>1</td>\n",
       "      <td>1.0</td>\n",
       "      <td>Graham, Miss. Margaret Edith</td>\n",
       "      <td>female</td>\n",
       "      <td>19.0</td>\n",
       "      <td>0.0</td>\n",
       "      <td>0.0</td>\n",
       "      <td>112053</td>\n",
       "      <td>30.0000</td>\n",
       "      <td>...</td>\n",
       "      <td>0.0</td>\n",
       "      <td>1.0</td>\n",
       "      <td>0.0</td>\n",
       "      <td>1.0</td>\n",
       "      <td>0.0</td>\n",
       "      <td>0.0</td>\n",
       "      <td>0.0</td>\n",
       "      <td>1.0</td>\n",
       "      <td>0.0</td>\n",
       "      <td>0.0</td>\n",
       "    </tr>\n",
       "    <tr>\n",
       "      <th>888</th>\n",
       "      <td>889</td>\n",
       "      <td>0</td>\n",
       "      <td>3.0</td>\n",
       "      <td>Johnston, Miss. Catherine Helen \"Carrie\"</td>\n",
       "      <td>female</td>\n",
       "      <td>28.0</td>\n",
       "      <td>1.0</td>\n",
       "      <td>2.0</td>\n",
       "      <td>W./C. 6607</td>\n",
       "      <td>23.4500</td>\n",
       "      <td>...</td>\n",
       "      <td>0.0</td>\n",
       "      <td>1.0</td>\n",
       "      <td>0.0</td>\n",
       "      <td>1.0</td>\n",
       "      <td>0.0</td>\n",
       "      <td>0.0</td>\n",
       "      <td>0.0</td>\n",
       "      <td>0.0</td>\n",
       "      <td>0.0</td>\n",
       "      <td>1.0</td>\n",
       "    </tr>\n",
       "    <tr>\n",
       "      <th>889</th>\n",
       "      <td>890</td>\n",
       "      <td>1</td>\n",
       "      <td>1.0</td>\n",
       "      <td>Behr, Mr. Karl Howell</td>\n",
       "      <td>male</td>\n",
       "      <td>26.0</td>\n",
       "      <td>0.0</td>\n",
       "      <td>0.0</td>\n",
       "      <td>111369</td>\n",
       "      <td>30.0000</td>\n",
       "      <td>...</td>\n",
       "      <td>0.0</td>\n",
       "      <td>0.0</td>\n",
       "      <td>0.0</td>\n",
       "      <td>0.0</td>\n",
       "      <td>1.0</td>\n",
       "      <td>0.0</td>\n",
       "      <td>0.0</td>\n",
       "      <td>0.0</td>\n",
       "      <td>0.0</td>\n",
       "      <td>1.0</td>\n",
       "    </tr>\n",
       "    <tr>\n",
       "      <th>890</th>\n",
       "      <td>891</td>\n",
       "      <td>0</td>\n",
       "      <td>3.0</td>\n",
       "      <td>Dooley, Mr. Patrick</td>\n",
       "      <td>male</td>\n",
       "      <td>32.0</td>\n",
       "      <td>0.0</td>\n",
       "      <td>0.0</td>\n",
       "      <td>370376</td>\n",
       "      <td>7.7500</td>\n",
       "      <td>...</td>\n",
       "      <td>1.0</td>\n",
       "      <td>0.0</td>\n",
       "      <td>0.0</td>\n",
       "      <td>0.0</td>\n",
       "      <td>1.0</td>\n",
       "      <td>0.0</td>\n",
       "      <td>0.0</td>\n",
       "      <td>0.0</td>\n",
       "      <td>0.0</td>\n",
       "      <td>1.0</td>\n",
       "    </tr>\n",
       "  </tbody>\n",
       "</table>\n",
       "<p>891 rows × 27 columns</p>\n",
       "</div>"
      ],
      "text/plain": [
       "     PassengerId  Survived  Pclass  \\\n",
       "0              1         0     3.0   \n",
       "1              2         1     1.0   \n",
       "2              3         1     3.0   \n",
       "3              4         1     1.0   \n",
       "4              5         0     3.0   \n",
       "..           ...       ...     ...   \n",
       "886          887         0     2.0   \n",
       "887          888         1     1.0   \n",
       "888          889         0     3.0   \n",
       "889          890         1     1.0   \n",
       "890          891         0     3.0   \n",
       "\n",
       "                                                  Name     Sex   Age  SibSp  \\\n",
       "0                              Braund, Mr. Owen Harris    male  22.0    1.0   \n",
       "1    Cumings, Mrs. John Bradley (Florence Briggs Th...  female  38.0    1.0   \n",
       "2                               Heikkinen, Miss. Laina  female  26.0    0.0   \n",
       "3         Futrelle, Mrs. Jacques Heath (Lily May Peel)  female  35.0    1.0   \n",
       "4                             Allen, Mr. William Henry    male  35.0    0.0   \n",
       "..                                                 ...     ...   ...    ...   \n",
       "886                              Montvila, Rev. Juozas    male  27.0    0.0   \n",
       "887                       Graham, Miss. Margaret Edith  female  19.0    0.0   \n",
       "888           Johnston, Miss. Catherine Helen \"Carrie\"  female  28.0    1.0   \n",
       "889                              Behr, Mr. Karl Howell    male  26.0    0.0   \n",
       "890                                Dooley, Mr. Patrick    male  32.0    0.0   \n",
       "\n",
       "     Parch            Ticket     Fare  ...    3    4    5    6    7    8    9  \\\n",
       "0      0.0         A/5 21171   7.2500  ...  0.0  1.0  0.0  0.0  1.0  0.0  0.0   \n",
       "1      0.0          PC 17599  71.2833  ...  0.0  0.0  0.0  0.0  0.0  1.0  0.0   \n",
       "2      0.0  STON/O2. 3101282   7.9250  ...  0.0  1.0  0.0  1.0  0.0  0.0  0.0   \n",
       "3      0.0            113803  53.1000  ...  0.0  1.0  0.0  0.0  0.0  1.0  0.0   \n",
       "4      0.0            373450   8.0500  ...  0.0  1.0  0.0  0.0  1.0  0.0  0.0   \n",
       "..     ...               ...      ...  ...  ...  ...  ...  ...  ...  ...  ...   \n",
       "886    0.0            211536  13.0000  ...  0.0  1.0  0.0  0.0  0.0  0.0  1.0   \n",
       "887    0.0            112053  30.0000  ...  0.0  1.0  0.0  1.0  0.0  0.0  0.0   \n",
       "888    2.0        W./C. 6607  23.4500  ...  0.0  1.0  0.0  1.0  0.0  0.0  0.0   \n",
       "889    0.0            111369  30.0000  ...  0.0  0.0  0.0  0.0  1.0  0.0  0.0   \n",
       "890    0.0            370376   7.7500  ...  1.0  0.0  0.0  0.0  1.0  0.0  0.0   \n",
       "\n",
       "      10   11   12  \n",
       "0    1.0  0.0  0.0  \n",
       "1    0.0  0.0  1.0  \n",
       "2    0.0  0.0  1.0  \n",
       "3    0.0  0.0  1.0  \n",
       "4    0.0  0.0  1.0  \n",
       "..   ...  ...  ...  \n",
       "886  0.0  0.0  1.0  \n",
       "887  1.0  0.0  0.0  \n",
       "888  0.0  0.0  1.0  \n",
       "889  0.0  0.0  1.0  \n",
       "890  0.0  0.0  1.0  \n",
       "\n",
       "[891 rows x 27 columns]"
      ]
     },
     "execution_count": 20,
     "metadata": {},
     "output_type": "execute_result"
    }
   ],
   "source": [
    "df_train"
   ]
  },
  {
   "cell_type": "code",
   "execution_count": 62,
   "id": "6229e984",
   "metadata": {},
   "outputs": [],
   "source": [
    "#Working on test data\n",
    "temp = encoder.transform(df_test[columns_object]).toarray()\n",
    "df_temp = pd.DataFrame(temp)   #  Creating DF_temp of OneHot Encoded data\n",
    "df_test = pd.concat([df_test,df_temp], axis=1)# Concating df_test,df_temp "
   ]
  },
  {
   "cell_type": "code",
   "execution_count": 27,
   "id": "88227feb",
   "metadata": {},
   "outputs": [],
   "source": [
    "# columns_numeric.remove('Age')  This makes Score reduced by 0.48 hence commented"
   ]
  },
  {
   "cell_type": "code",
   "execution_count": 64,
   "id": "0c12b833",
   "metadata": {},
   "outputs": [],
   "source": [
    "from sklearn.ensemble import RandomForestClassifier\n",
    "from sklearn.model_selection import GridSearchCV"
   ]
  },
  {
   "cell_type": "code",
   "execution_count": 65,
   "id": "8f8cbead",
   "metadata": {},
   "outputs": [
    {
     "data": {
      "text/plain": [
       "GridSearchCV(cv=5, estimator=RandomForestClassifier(random_state=2), n_jobs=-1,\n",
       "             param_grid={'max_depth': [2, 3, 4, 5, 6],\n",
       "                         'min_samples_leaf': [3, 4, 5, 6, 7],\n",
       "                         'n_estimators': [25, 50, 100, 150, 200]})"
      ]
     },
     "execution_count": 65,
     "metadata": {},
     "output_type": "execute_result"
    }
   ],
   "source": [
    "p = {'n_estimators':[25,50,100,150,200], 'max_depth':[2,3,4,5,6], 'min_samples_leaf':[3,4,5,6,7]}\n",
    "grid_cv = GridSearchCV(RandomForestClassifier(random_state=2),p,n_jobs=-1,cv=5,)\n",
    "grid_cv.fit(df_train[columns_numeric], df_train['Survived']) #fit(X,y)"
   ]
  },
  {
   "cell_type": "code",
   "execution_count": 66,
   "id": "87bbade7",
   "metadata": {},
   "outputs": [
    {
     "data": {
      "text/plain": [
       "RandomForestClassifier(max_depth=6, min_samples_leaf=4, n_estimators=150,\n",
       "                       random_state=2)"
      ]
     },
     "execution_count": 66,
     "metadata": {},
     "output_type": "execute_result"
    }
   ],
   "source": [
    "grid_cv.best_estimator_"
   ]
  },
  {
   "cell_type": "code",
   "execution_count": 67,
   "id": "a94eba96",
   "metadata": {},
   "outputs": [
    {
     "data": {
      "text/plain": [
       "{'max_depth': 6, 'min_samples_leaf': 4, 'n_estimators': 150}"
      ]
     },
     "execution_count": 67,
     "metadata": {},
     "output_type": "execute_result"
    }
   ],
   "source": [
    "grid_cv.best_params_"
   ]
  },
  {
   "cell_type": "code",
   "execution_count": 72,
   "id": "d31810ea",
   "metadata": {},
   "outputs": [
    {
     "data": {
      "text/plain": [
       "RandomForestClassifier(max_depth=5, min_samples_leaf=4, n_estimators=150,\n",
       "                       random_state=1)"
      ]
     },
     "execution_count": 72,
     "metadata": {},
     "output_type": "execute_result"
    }
   ],
   "source": [
    "# model_final = RandomForestClassifier(max_depth=6, min_samples_leaf=4, n_estimators=150,random_state=2)\n",
    "model_final = RandomForestClassifier(max_depth=5, min_samples_leaf=4, random_state=1, n_estimators=150)\n",
    "# model_final = RandomForestClassifier(max_depth=5, min_samples_leaf=4, random_state=2, n_estimators=50)\n",
    "# model_final = RandomForestClassifier(n_estimators=1000, max_depth=3, random_state=2)\n",
    "model_final.fit(df_train[columns_numeric], df_train['Survived'])"
   ]
  },
  {
   "cell_type": "code",
   "execution_count": 73,
   "id": "3dc3293c",
   "metadata": {},
   "outputs": [],
   "source": [
    "y = model_final.predict(df_test[columns_numeric])"
   ]
  },
  {
   "cell_type": "code",
   "execution_count": 74,
   "id": "4ce9058f",
   "metadata": {},
   "outputs": [],
   "source": [
    "df_test['Survived'] = y"
   ]
  },
  {
   "cell_type": "code",
   "execution_count": 75,
   "id": "4b2c554b",
   "metadata": {},
   "outputs": [],
   "source": [
    "df_test[['PassengerId','Survived']].to_csv('sub7_dsml14.csv',index=False)"
   ]
  },
  {
   "cell_type": "code",
   "execution_count": null,
   "id": "c6a00940",
   "metadata": {},
   "outputs": [],
   "source": []
  }
 ],
 "metadata": {
  "kernelspec": {
   "display_name": "Python 3 (ipykernel)",
   "language": "python",
   "name": "python3"
  },
  "language_info": {
   "codemirror_mode": {
    "name": "ipython",
    "version": 3
   },
   "file_extension": ".py",
   "mimetype": "text/x-python",
   "name": "python",
   "nbconvert_exporter": "python",
   "pygments_lexer": "ipython3",
   "version": "3.9.7"
  }
 },
 "nbformat": 4,
 "nbformat_minor": 5
}
